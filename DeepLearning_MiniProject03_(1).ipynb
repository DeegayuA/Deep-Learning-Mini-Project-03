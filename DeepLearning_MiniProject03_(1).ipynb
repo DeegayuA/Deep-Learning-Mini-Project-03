{
  "cells": [
    {
      "cell_type": "markdown",
      "metadata": {
        "id": "QT629icZcaSl"
      },
      "source": [
        "Necessary Library Imports"
      ]
    },
    {
      "cell_type": "code",
      "execution_count": 2,
      "metadata": {
        "id": "_Fc2KeNtcFLn"
      },
      "outputs": [],
      "source": [
        "import random\n",
        "import tensorflow as tf\n",
        "import string\n",
        "import re\n",
        "from tensorflow import keras\n",
        "from tensorflow.keras import layers"
      ]
    },
    {
      "cell_type": "markdown",
      "metadata": {
        "id": "UZX0slNVcbgW"
      },
      "source": [
        "Mount the Google Drive"
      ]
    },
    {
      "cell_type": "code",
      "execution_count": 3,
      "metadata": {
        "colab": {
          "base_uri": "https://localhost:8080/"
        },
        "id": "-P7AydiWcbxY",
        "outputId": "6d91c141-bcd0-4613-9f4c-16d08ebed453"
      },
      "outputs": [
        {
          "output_type": "stream",
          "name": "stdout",
          "text": [
            "Mounted at /content/drive\n"
          ]
        }
      ],
      "source": [
        "from google.colab import drive\n",
        "drive.mount('/content/drive')"
      ]
    },
    {
      "cell_type": "markdown",
      "metadata": {
        "id": "_ik52dtbcb7q"
      },
      "source": [
        "Read the data file"
      ]
    },
    {
      "cell_type": "code",
      "execution_count": 4,
      "metadata": {
        "colab": {
          "base_uri": "https://localhost:8080/"
        },
        "id": "9qWYVkWpccEo",
        "outputId": "d9a0b67a-291a-427d-8ef6-1853ab9da3e0"
      },
      "outputs": [
        {
          "output_type": "stream",
          "name": "stdout",
          "text": [
            "Row 1: I've already told you what I know.\tමා දන්නා දේ මම දැනටමත් ඔබට පවසා ඇත.\n",
            "Row 2: I'm on my way.\tමම එන ගමන්.\n",
            "Row 3: They lived happily ever after.\tඔවුන් සතුටින් ජීවත් වූවාය.\n",
            "Row 4: I went, too.\tමමත් ගියා.\n",
            "Row 5: Tom lacks motivation.\tටොම්ට පෙළඹවීමක් නොමැත.\n",
            "Row 6: The new tunnel is twice as long as the old one.\tනව උමග පැරණි එකට මෙන් දෙගුණයක් වේ.\n",
            "Row 7: I'm thinking of you.\tමම ඔබ ගැන සිතමින් සිටිමි.\n",
            "Row 8: That's mine.\tඒ මගේ.\n",
            "Row 9: Why don't you believe me when I say I'm busy?\tමම කාර්යබහුල යැයි පැවසූ විට ඔබ මාව විශ්වාස නොකරන්නේ ඇයි?\n",
            "Row 10: How do I fix this problem?\tමෙම ගැටලුව නිවැරදි කරන්නේ කෙසේද?\n",
            "Row 11: It's still too hard to find a job. And even if you have a job, chances are you're having a tougher time paying the rising costs of everything from groceries to gas.\tරැකියාවක් සොයා ගැනීම තවමත් දුෂ්කර ය. ඔබට රැකියාවක් තිබුණත්, සිල්ලර බඩු වලින් ගෑස් දක්වා සෑම දෙයකම ඉහළ යන පිරිවැය ගෙවන ඔබට දැඩි කාලයක් ගත වේ.\n",
            "Row 12: The police chased the stolen car.\tපොලිසිය සොරකම් කළ මෝටර් රථය පසුපස හඹා ගියේය.\n",
            "Row 13: We've discussed many topics.\tඅපි බොහෝ මාතෘකා සාකච්ඡා කර ඇත්තෙමු.\n",
            "Row 14: I see the problem.\tමට ගැටලුව පෙනේ.\n",
            "Row 15: In space, no one can hear you scream.\tඅභ්යවකාශයේ දී, ඔබ කෑගසන්නේ කිසිවෙකුට ඇසෙන්නේ නැත.\n",
            "Row 16: Tom always wants to sit in the front row.\tටොම් සෑම විටම ඉදිරිපස පේළියේ වාඩි වීමට අවශ්යයි.\n",
            "Row 17: They all tried to talk at one time.\tඔවුන් සියල්ලෝම එකවර කතා කිරීමට උත්සාහ කළහ.\n",
            "Row 18: Tom was stuck in traffic.\tටොම් ගමනාගමනයේ සිරවී සිටියේය.\n",
            "Row 19: This is designed especially for young people.\tමෙය විශේෂයෙන් තරුණ තරුණියන් සඳහා නිර්මාණය කර ඇත.\n",
            "Row 20: Tom did the unthinkable.\tටොම් විසින් සිතාගත නොහැකි විය.\n"
          ]
        }
      ],
      "source": [
        "import csv\n",
        "import random\n",
        "\n",
        "csv_file = \"/content/drive/MyDrive/Deep_Learning/MiniProject03/data.csv\"\n",
        "\n",
        "# Read the CSV file into a list of rows\n",
        "with open(csv_file, 'r') as file:\n",
        "    csv_reader = list(csv.reader(file))\n",
        "\n",
        "# Shuffle the rows randomly\n",
        "random.shuffle(csv_reader)\n",
        "\n",
        "# Process the shuffled rows, limiting to 20 lines\n",
        "for i, row in enumerate(csv_reader[:20], start=1):\n",
        "    cell1, cell2 = row\n",
        "    print(f\"Row {i}: {cell1}\\t{cell2}\")\n"
      ]
    },
    {
      "cell_type": "markdown",
      "metadata": {
        "id": "uUtteFotccdz"
      },
      "source": [
        "Split the English and Sinhala translation pairs"
      ]
    },
    {
      "cell_type": "code",
      "execution_count": 5,
      "metadata": {
        "colab": {
          "base_uri": "https://localhost:8080/"
        },
        "id": "S3PhpQHtccmD",
        "outputId": "a17526c1-f359-4b7a-f1b7-70b4c9c40d6f"
      },
      "outputs": [
        {
          "output_type": "stream",
          "name": "stdout",
          "text": [
            "('The sun always rises in the east.', '[start] සූර්යයා සෑම විටම නැගෙනහිර දෙසින් නැගී සිටියි. [end]')\n",
            "(\"I'll be back in an hour.\", '[start] මම පැයකින් ආපහු එන්නම්. [end]')\n",
            "('Tom has three ex-wives.', '[start] ටොම්ට හිටපු භාර්යාවන් තිදෙනෙක් සිටිති. [end]')\n",
            "('I knew you could do it.', '[start] මම දැනගෙන හිටියා ඔයාට ඒක කරන්න පුළුවන් කියලා. [end]')\n",
            "('He never laughs.', '[start] ඔහු කිසි විටෙකත් සිනාසෙන්නේ නැත. [end]')\n"
          ]
        }
      ],
      "source": [
        "csv_file = \"/content/drive/MyDrive/Deep_Learning/MiniProject03/data.csv\"\n",
        "\n",
        "text_pairs = []\n",
        "with open(csv_file, 'r') as file:\n",
        "    csv_reader = csv.reader(file)\n",
        "    for row in csv_reader:\n",
        "        if len(row) >= 2 and row[1] is not None:\n",
        "            english, sinhala = row[:2]\n",
        "            sinhala = \"[start] \" + sinhala + \" [end]\"\n",
        "            text_pairs.append((english, sinhala))\n",
        "\n",
        "for _ in range(5):\n",
        "    print(random.choice(text_pairs))\n"
      ]
    },
    {
      "cell_type": "markdown",
      "metadata": {
        "id": "LXZhHwAvccuS"
      },
      "source": [
        "Randomize the data"
      ]
    },
    {
      "cell_type": "code",
      "execution_count": 6,
      "metadata": {
        "id": "ntlhKik_cc26"
      },
      "outputs": [],
      "source": [
        "random.shuffle(text_pairs)"
      ]
    },
    {
      "cell_type": "markdown",
      "metadata": {
        "id": "LTCO23TLcc93"
      },
      "source": [
        "Spliting the data into training, validation and Testing"
      ]
    },
    {
      "cell_type": "code",
      "execution_count": 7,
      "metadata": {
        "colab": {
          "base_uri": "https://localhost:8080/"
        },
        "id": "F-n5GsD7cdFn",
        "outputId": "89793aba-18e3-4016-9e16-952a7afec693"
      },
      "outputs": [
        {
          "output_type": "stream",
          "name": "stdout",
          "text": [
            "Total sentences: 102903\n",
            "Training set size: 72033\n",
            "Validation set size: 15435\n",
            "Testing set size: 15435\n"
          ]
        }
      ],
      "source": [
        "num_val_samples = int(0.15 * len(text_pairs))\n",
        "num_train_samples = len(text_pairs) - 2 * num_val_samples\n",
        "train_pairs = text_pairs[:num_train_samples]\n",
        "val_pairs = text_pairs[num_train_samples:num_train_samples + num_val_samples]\n",
        "test_pairs = text_pairs[num_train_samples + num_val_samples:]\n",
        "\n",
        "print(\"Total sentences:\",len(text_pairs))\n",
        "print(\"Training set size:\",len(train_pairs))\n",
        "print(\"Validation set size:\",len(val_pairs))\n",
        "print(\"Testing set size:\",len(test_pairs))\n"
      ]
    },
    {
      "cell_type": "code",
      "execution_count": 8,
      "metadata": {
        "colab": {
          "base_uri": "https://localhost:8080/"
        },
        "id": "Nlz7_hQBcdTu",
        "outputId": "a2738a7f-eda0-451e-965a-d614235eb63d"
      },
      "outputs": [
        {
          "output_type": "execute_result",
          "data": {
            "text/plain": [
              "102903"
            ]
          },
          "metadata": {},
          "execution_count": 8
        }
      ],
      "source": [
        "len(train_pairs)+len(val_pairs)+len(test_pairs)"
      ]
    },
    {
      "cell_type": "markdown",
      "metadata": {
        "id": "mfKFGFWTkifQ"
      },
      "source": [
        "Removing Punctuations"
      ]
    },
    {
      "cell_type": "code",
      "execution_count": 9,
      "metadata": {
        "colab": {
          "base_uri": "https://localhost:8080/",
          "height": 35
        },
        "id": "IZrUBdcDcdiB",
        "outputId": "66a96dee-b2c5-4d60-8178-abfcf9e2d224"
      },
      "outputs": [
        {
          "output_type": "execute_result",
          "data": {
            "text/plain": [
              "'[!\"\\\\#\\\\$%\\\\&\\'\\\\(\\\\)\\\\*\\\\+,\\\\-\\\\./:;<=>\\\\?@\\\\\\\\\\\\^_`\\\\{\\\\|\\\\}\\\\~¿]'"
            ],
            "application/vnd.google.colaboratory.intrinsic+json": {
              "type": "string"
            }
          },
          "metadata": {},
          "execution_count": 9
        }
      ],
      "source": [
        "strip_chars = string.punctuation + \"¿\"\n",
        "strip_chars = strip_chars.replace(\"[\", \"\")\n",
        "strip_chars = strip_chars.replace(\"]\", \"\")\n",
        "\n",
        "f\"[{re.escape(strip_chars)}]\""
      ]
    },
    {
      "cell_type": "markdown",
      "metadata": {
        "id": "u9N4er4ccd9E"
      },
      "source": [
        "Vectorizing the English and Sinhala text pairs"
      ]
    },
    {
      "cell_type": "code",
      "execution_count": 10,
      "metadata": {
        "id": "m2VJVtguceFs"
      },
      "outputs": [],
      "source": [
        "def custom_standardization(input_string):\n",
        "  lowercase = tf.strings.lower(input_string)\n",
        "  return tf.strings.regex_replace(\n",
        "      lowercase, f\"[{re.escape(strip_chars)}]\", \"\")\n",
        "\n",
        "vocab_size = 15000\n",
        "sequence_length = 20\n",
        "\n",
        "source_vectorization = layers.TextVectorization(\n",
        "    max_tokens=vocab_size,\n",
        "    output_mode=\"int\",\n",
        "    output_sequence_length=sequence_length,\n",
        ")\n",
        "target_vectorization = layers.TextVectorization(\n",
        "    max_tokens=vocab_size,\n",
        "    output_mode=\"int\",\n",
        "    output_sequence_length=sequence_length + 1,\n",
        "    standardize=custom_standardization,\n",
        ")\n",
        "train_english_texts = [pair[0] for pair in train_pairs]\n",
        "train_sinhala_texts = [pair[1] for pair in train_pairs]\n",
        "source_vectorization.adapt(train_english_texts)\n",
        "target_vectorization.adapt(train_sinhala_texts)\n"
      ]
    },
    {
      "cell_type": "markdown",
      "metadata": {
        "id": "xu8bHjxmceNT"
      },
      "source": [
        "Preparing datasets for the translation task"
      ]
    },
    {
      "cell_type": "code",
      "execution_count": 11,
      "metadata": {
        "colab": {
          "base_uri": "https://localhost:8080/"
        },
        "id": "nsStSjhAceVI",
        "outputId": "43a1bf88-7fca-4aec-f36a-9288fa55e8cf"
      },
      "outputs": [
        {
          "output_type": "stream",
          "name": "stdout",
          "text": [
            "inputs['english'].shape: (64, 20)\n",
            "inputs['sinhala'].shape: (64, 20)\n",
            "targets.shape: (64, 20)\n"
          ]
        }
      ],
      "source": [
        "batch_size = 64\n",
        "\n",
        "def format_dataset(eng, sin):\n",
        "   eng = source_vectorization(eng)\n",
        "   sin = target_vectorization(sin)\n",
        "   return ({\n",
        "         \"english\": eng,\n",
        "         \"sinhala\": sin[:, :-1],\n",
        "   }, sin[:, 1:])\n",
        "\n",
        "def make_dataset(pairs):\n",
        "    eng_texts, sin_texts = zip(*pairs)\n",
        "    eng_texts = list(eng_texts)\n",
        "    sin_texts = list(sin_texts)\n",
        "    dataset = tf.data.Dataset.from_tensor_slices((eng_texts, sin_texts))\n",
        "    dataset = dataset.batch(batch_size)\n",
        "    dataset = dataset.map(format_dataset, num_parallel_calls=4)\n",
        "    return dataset.shuffle(2048).prefetch(16).cache()\n",
        "\n",
        "train_ds = make_dataset(train_pairs)\n",
        "val_ds = make_dataset(val_pairs)\n",
        "\n",
        "\n",
        "for inputs, targets in train_ds.take(1):\n",
        "   print(f\"inputs['english'].shape: {inputs['english'].shape}\")\n",
        "   print(f\"inputs['sinhala'].shape: {inputs['sinhala'].shape}\")\n",
        "   print(f\"targets.shape: {targets.shape}\")\n",
        "\n",
        "\n"
      ]
    },
    {
      "cell_type": "code",
      "execution_count": 12,
      "metadata": {
        "colab": {
          "base_uri": "https://localhost:8080/"
        },
        "id": "1-M6gEmFcekl",
        "outputId": "51d0d01f-015f-4d2e-814a-0656b1d7e232"
      },
      "outputs": [
        {
          "output_type": "stream",
          "name": "stdout",
          "text": [
            "({'english': array([[ 384, 1132,   12, ...,    0,    0,    0],\n",
            "       [   4,   16,   81, ...,    0,    0,    0],\n",
            "       [   5,   33,   24, ...,    0,    0,    0],\n",
            "       ...,\n",
            "       [   4,  118,    3, ...,    0,    0,    0],\n",
            "       [  54,   11,  113, ...,    0,    0,    0],\n",
            "       [   4,   62,   46, ...,    0,    0,    0]]), 'sinhala': array([[   2,  864,  138, ...,    0,    0,    0],\n",
            "       [   2,    4, 3923, ...,    0,    0,    0],\n",
            "       [   2,    5,   57, ...,    0,    0,    0],\n",
            "       ...,\n",
            "       [   2,    4,  379, ...,    0,    0,    0],\n",
            "       [   2,  333,  239, ...,    0,    0,    0],\n",
            "       [   2,    4,   70, ...,    0,    0,    0]])}, array([[ 864,  138,  107, ...,    0,    0,    0],\n",
            "       [   4, 3923,  261, ...,    0,    0,    0],\n",
            "       [   5,   57,   37, ...,    0,    0,    0],\n",
            "       ...,\n",
            "       [   4,  379,  766, ...,    0,    0,    0],\n",
            "       [ 333,  239, 3372, ...,    0,    0,    0],\n",
            "       [   4,   70,    6, ...,    0,    0,    0]]))\n"
          ]
        }
      ],
      "source": [
        "print(list(train_ds.as_numpy_iterator())[50])"
      ]
    },
    {
      "cell_type": "markdown",
      "metadata": {
        "id": "TPb7zyyocesc"
      },
      "source": [
        "Transformer encoder implemented as a subclassed Layer"
      ]
    },
    {
      "cell_type": "code",
      "execution_count": 13,
      "metadata": {
        "id": "Xj6kbzgIcez0"
      },
      "outputs": [],
      "source": [
        "class TransformerEncoder(layers.Layer):\n",
        "    def __init__(self, embed_dim, dense_dim, num_heads, **kwargs):\n",
        "      super().__init__(**kwargs)\n",
        "      self.embed_dim = embed_dim\n",
        "      self.dense_dim = dense_dim\n",
        "      self.num_heads = num_heads\n",
        "      self.attention = layers.MultiHeadAttention(\n",
        "           num_heads=num_heads, key_dim=embed_dim)\n",
        "      self.dense_proj = keras.Sequential(\n",
        "           [layers.Dense(dense_dim, activation=\"relu\"),\n",
        "            layers.Dense(embed_dim),]\n",
        "      )\n",
        "      self.layernorm_1 = layers.LayerNormalization()\n",
        "      self.layernorm_2 = layers.LayerNormalization()\n",
        "\n",
        "    def call(self, inputs, mask=None):\n",
        "      if mask is not None:\n",
        "         mask = mask[:, tf.newaxis, :]\n",
        "      attention_output = self.attention(\n",
        "         inputs, inputs, attention_mask=mask)\n",
        "      proj_input = self.layernorm_1(inputs + attention_output)\n",
        "      proj_output = self.dense_proj(proj_input)\n",
        "      return self.layernorm_2(proj_input + proj_output)\n",
        "\n",
        "    def get_config(self):\n",
        "        config = super().get_config()\n",
        "        config.update({\n",
        "            \"embed_dim\": self.embed_dim,\n",
        "            \"num_heads\": self.num_heads,\n",
        "            \"dense_dim\": self.dense_dim,\n",
        "        })\n",
        "        return config\n"
      ]
    },
    {
      "cell_type": "markdown",
      "metadata": {
        "id": "fub6n634ce7j"
      },
      "source": [
        "The Transformer decoder"
      ]
    },
    {
      "cell_type": "code",
      "execution_count": 14,
      "metadata": {
        "id": "rjCAl5PycfDe"
      },
      "outputs": [],
      "source": [
        "class TransformerDecoder(layers.Layer):\n",
        "    def __init__(self, embed_dim, dense_dim, num_heads, **kwargs):\n",
        "      super().__init__(**kwargs)\n",
        "      self.embed_dim = embed_dim\n",
        "      self.dense_dim = dense_dim\n",
        "      self.num_heads = num_heads\n",
        "      self.attention_1 = layers.MultiHeadAttention(\n",
        "          num_heads=num_heads, key_dim=embed_dim)\n",
        "      self.attention_2 = layers.MultiHeadAttention(\n",
        "          num_heads=num_heads, key_dim=embed_dim)\n",
        "      self.dense_proj = keras.Sequential(\n",
        "          [layers.Dense(dense_dim, activation=\"relu\"),\n",
        "           layers.Dense(embed_dim),]\n",
        "      )\n",
        "      self.layernorm_1 = layers.LayerNormalization()\n",
        "      self.layernorm_2 = layers.LayerNormalization()\n",
        "      self.layernorm_3 = layers.LayerNormalization()\n",
        "      self.supports_masking = True\n",
        "\n",
        "    def get_config(self):\n",
        "      config = super().get_config()\n",
        "      config.update({\n",
        "          \"embed_dim\": self.embed_dim,\n",
        "          \"num_heads\": self.num_heads,\n",
        "          \"dense_dim\": self.dense_dim,\n",
        "      })\n",
        "      return config\n",
        "\n",
        "    def get_causal_attention_mask(self, inputs):\n",
        "      input_shape = tf.shape(inputs)\n",
        "      batch_size, sequence_length = input_shape[0], input_shape[1]\n",
        "      i = tf.range(sequence_length)[:, tf.newaxis]\n",
        "      j = tf.range(sequence_length)\n",
        "      mask = tf.cast(i >= j, dtype=\"int32\")\n",
        "      mask = tf.reshape(mask, (1, input_shape[1], input_shape[1]))\n",
        "      mult = tf.concat(\n",
        "              [tf.expand_dims(batch_size, -1),\n",
        "               tf.constant([1, 1], dtype=tf.int32)], axis=0)\n",
        "      return tf.tile(mask, mult)\n",
        "\n",
        "    def call(self, inputs, encoder_outputs, mask=None):\n",
        "      causal_mask = self.get_causal_attention_mask(inputs)\n",
        "      if mask is not None:\n",
        "           padding_mask = tf.cast(\n",
        "                mask[:, tf.newaxis, :], dtype=\"int32\")\n",
        "           padding_mask = tf.minimum(padding_mask, causal_mask)\n",
        "      else:\n",
        "           padding_mask = mask\n",
        "      attention_output_1 = self.attention_1(\n",
        "           query=inputs,\n",
        "           value=inputs,\n",
        "           key=inputs,\n",
        "           attention_mask=causal_mask)\n",
        "      attention_output_1 = self.layernorm_1(inputs + attention_output_1)\n",
        "      attention_output_2 = self.attention_2(\n",
        "            query=attention_output_1,\n",
        "            value=encoder_outputs,\n",
        "            key=encoder_outputs,\n",
        "            attention_mask=padding_mask,\n",
        "       )\n",
        "      attention_output_2 = self.layernorm_2(\n",
        "          attention_output_1 + attention_output_2)\n",
        "      proj_output = self.dense_proj(attention_output_2)\n",
        "      return self.layernorm_3(attention_output_2 + proj_output)\n",
        "\n"
      ]
    },
    {
      "cell_type": "markdown",
      "metadata": {
        "id": "dEXwSKpfcfKw"
      },
      "source": [
        "Positional Encoding"
      ]
    },
    {
      "cell_type": "code",
      "execution_count": 15,
      "metadata": {
        "id": "XlHKt-ticfTu"
      },
      "outputs": [],
      "source": [
        "class PositionalEmbedding(layers.Layer):\n",
        "     def __init__(self, sequence_length, input_dim, output_dim, **kwargs):\n",
        "         super().__init__(**kwargs)\n",
        "         self.token_embeddings = layers.Embedding(\n",
        "             input_dim=input_dim, output_dim=output_dim)\n",
        "         self.position_embeddings = layers.Embedding(\n",
        "             input_dim=sequence_length, output_dim=output_dim)\n",
        "         self.sequence_length = sequence_length\n",
        "         self.input_dim = input_dim\n",
        "         self.output_dim = output_dim\n",
        "\n",
        "     def call(self, inputs):\n",
        "         length = tf.shape(inputs)[-1]\n",
        "         positions = tf.range(start=0, limit=length, delta=1)\n",
        "         embedded_tokens = self.token_embeddings(inputs)\n",
        "         embedded_positions = self.position_embeddings(positions)\n",
        "         return embedded_tokens + embedded_positions\n",
        "\n",
        "     def compute_mask(self, inputs, mask=None):\n",
        "        return tf.math.not_equal(inputs, 0)\n",
        "\n",
        "     def get_config(self):\n",
        "        config = super(PositionalEmbedding, self).get_config()\n",
        "        config.update({\n",
        "             \"output_dim\": self.output_dim,\n",
        "             \"sequence_length\": self.sequence_length,\n",
        "             \"input_dim\": self.input_dim,\n",
        "        })\n",
        "        return config\n"
      ]
    },
    {
      "cell_type": "markdown",
      "metadata": {
        "id": "JaRS3BJRcfbW"
      },
      "source": [
        "End-to-end Transformer"
      ]
    },
    {
      "cell_type": "code",
      "execution_count": 16,
      "metadata": {
        "id": "CBydQxTPcfkC"
      },
      "outputs": [],
      "source": [
        "embed_dim = 256\n",
        "dense_dim = 2048\n",
        "num_heads = 8\n",
        "\n",
        "encoder_inputs = keras.Input(shape=(None,), dtype=\"int64\", name=\"english\")\n",
        "x = PositionalEmbedding(sequence_length, vocab_size, embed_dim)(encoder_inputs)\n",
        "encoder_outputs = TransformerEncoder(embed_dim, dense_dim, num_heads)(x)\n",
        "\n",
        "decoder_inputs = keras.Input(shape=(None,), dtype=\"int64\", name=\"sinhala\")\n",
        "x = PositionalEmbedding(sequence_length, vocab_size, embed_dim)(decoder_inputs)\n",
        "x = TransformerDecoder(embed_dim, dense_dim, num_heads)(x, encoder_outputs)\n",
        "x = layers.Dropout(0.5)(x)\n",
        "decoder_outputs = layers.Dense(vocab_size, activation=\"softmax\")(x)\n",
        "transformer = keras.Model([encoder_inputs, decoder_inputs], decoder_outputs)\n"
      ]
    },
    {
      "cell_type": "code",
      "execution_count": 17,
      "metadata": {
        "colab": {
          "base_uri": "https://localhost:8080/"
        },
        "id": "HbvhUH8fcf0E",
        "outputId": "217dab8a-7f07-4395-a8f2-efb90f879e5e"
      },
      "outputs": [
        {
          "output_type": "stream",
          "name": "stdout",
          "text": [
            "\u001b[38;2;248;248;242mModel\u001b[39m\u001b[38;2;248;248;242m:\u001b[39m\u001b[38;2;248;248;242m \u001b[39m\u001b[38;2;230;219;116m\"\u001b[39m\u001b[38;2;230;219;116mmodel\u001b[39m\u001b[38;2;230;219;116m\"\u001b[39m\n",
            "\u001b[38;2;248;248;242m__________________________________________________________________________________________________\u001b[39m\n",
            "\u001b[38;2;248;248;242m \u001b[39m\u001b[38;2;248;248;242mLayer\u001b[39m\u001b[38;2;248;248;242m \u001b[39m\u001b[38;2;248;248;242m(\u001b[39m\u001b[38;2;248;248;242mtype\u001b[39m\u001b[38;2;248;248;242m)\u001b[39m\u001b[38;2;248;248;242m                \u001b[39m\u001b[38;2;248;248;242mOutput\u001b[39m\u001b[38;2;248;248;242m \u001b[39m\u001b[38;2;248;248;242mShape\u001b[39m\u001b[38;2;248;248;242m                 \u001b[39m\u001b[38;2;248;248;242mParam\u001b[39m\u001b[38;2;248;248;242m \u001b[39m\u001b[38;2;149;144;119m#   Connected to                  \u001b[39m\n",
            "\u001b[38;2;255;70;137m==\u001b[39m\u001b[38;2;255;70;137m==\u001b[39m\u001b[38;2;255;70;137m==\u001b[39m\u001b[38;2;255;70;137m==\u001b[39m\u001b[38;2;255;70;137m==\u001b[39m\u001b[38;2;255;70;137m==\u001b[39m\u001b[38;2;255;70;137m==\u001b[39m\u001b[38;2;255;70;137m==\u001b[39m\u001b[38;2;255;70;137m==\u001b[39m\u001b[38;2;255;70;137m==\u001b[39m\u001b[38;2;255;70;137m==\u001b[39m\u001b[38;2;255;70;137m==\u001b[39m\u001b[38;2;255;70;137m==\u001b[39m\u001b[38;2;255;70;137m==\u001b[39m\u001b[38;2;255;70;137m==\u001b[39m\u001b[38;2;255;70;137m==\u001b[39m\u001b[38;2;255;70;137m==\u001b[39m\u001b[38;2;255;70;137m==\u001b[39m\u001b[38;2;255;70;137m==\u001b[39m\u001b[38;2;255;70;137m==\u001b[39m\u001b[38;2;255;70;137m==\u001b[39m\u001b[38;2;255;70;137m==\u001b[39m\u001b[38;2;255;70;137m==\u001b[39m\u001b[38;2;255;70;137m==\u001b[39m\u001b[38;2;255;70;137m==\u001b[39m\u001b[38;2;255;70;137m==\u001b[39m\u001b[38;2;255;70;137m==\u001b[39m\u001b[38;2;255;70;137m==\u001b[39m\u001b[38;2;255;70;137m==\u001b[39m\u001b[38;2;255;70;137m==\u001b[39m\u001b[38;2;255;70;137m==\u001b[39m\u001b[38;2;255;70;137m==\u001b[39m\u001b[38;2;255;70;137m==\u001b[39m\u001b[38;2;255;70;137m==\u001b[39m\u001b[38;2;255;70;137m==\u001b[39m\u001b[38;2;255;70;137m==\u001b[39m\u001b[38;2;255;70;137m==\u001b[39m\u001b[38;2;255;70;137m==\u001b[39m\u001b[38;2;255;70;137m==\u001b[39m\u001b[38;2;255;70;137m==\u001b[39m\u001b[38;2;255;70;137m==\u001b[39m\u001b[38;2;255;70;137m==\u001b[39m\u001b[38;2;255;70;137m==\u001b[39m\u001b[38;2;255;70;137m==\u001b[39m\u001b[38;2;255;70;137m==\u001b[39m\u001b[38;2;255;70;137m==\u001b[39m\u001b[38;2;255;70;137m==\u001b[39m\u001b[38;2;255;70;137m==\u001b[39m\u001b[38;2;255;70;137m==\u001b[39m\n",
            "\u001b[38;2;248;248;242m \u001b[39m\u001b[38;2;248;248;242menglish\u001b[39m\u001b[38;2;248;248;242m \u001b[39m\u001b[38;2;248;248;242m(\u001b[39m\u001b[38;2;248;248;242mInputLayer\u001b[39m\u001b[38;2;248;248;242m)\u001b[39m\u001b[38;2;248;248;242m        \u001b[39m\u001b[38;2;248;248;242m[\u001b[39m\u001b[38;2;248;248;242m(\u001b[39m\u001b[38;2;102;217;239mNone\u001b[39m\u001b[38;2;248;248;242m,\u001b[39m\u001b[38;2;248;248;242m \u001b[39m\u001b[38;2;102;217;239mNone\u001b[39m\u001b[38;2;248;248;242m)\u001b[39m\u001b[38;2;248;248;242m]\u001b[39m\u001b[38;2;248;248;242m               \u001b[39m\u001b[38;2;174;129;255m0\u001b[39m\u001b[38;2;248;248;242m         \u001b[39m\u001b[38;2;248;248;242m[\u001b[39m\u001b[38;2;248;248;242m]\u001b[39m\u001b[38;2;248;248;242m                            \u001b[39m\n",
            "\u001b[38;2;248;248;242m                                                                                                  \u001b[39m\n",
            "\u001b[38;2;248;248;242m \u001b[39m\u001b[38;2;248;248;242msinhala\u001b[39m\u001b[38;2;248;248;242m \u001b[39m\u001b[38;2;248;248;242m(\u001b[39m\u001b[38;2;248;248;242mInputLayer\u001b[39m\u001b[38;2;248;248;242m)\u001b[39m\u001b[38;2;248;248;242m        \u001b[39m\u001b[38;2;248;248;242m[\u001b[39m\u001b[38;2;248;248;242m(\u001b[39m\u001b[38;2;102;217;239mNone\u001b[39m\u001b[38;2;248;248;242m,\u001b[39m\u001b[38;2;248;248;242m \u001b[39m\u001b[38;2;102;217;239mNone\u001b[39m\u001b[38;2;248;248;242m)\u001b[39m\u001b[38;2;248;248;242m]\u001b[39m\u001b[38;2;248;248;242m               \u001b[39m\u001b[38;2;174;129;255m0\u001b[39m\u001b[38;2;248;248;242m         \u001b[39m\u001b[38;2;248;248;242m[\u001b[39m\u001b[38;2;248;248;242m]\u001b[39m\u001b[38;2;248;248;242m                            \u001b[39m\n",
            "\u001b[38;2;248;248;242m                                                                                                  \u001b[39m\n",
            "\u001b[38;2;248;248;242m \u001b[39m\u001b[38;2;248;248;242mpositional_embedding\u001b[39m\u001b[38;2;248;248;242m \u001b[39m\u001b[38;2;248;248;242m(\u001b[39m\u001b[38;2;248;248;242mPosi\u001b[39m\u001b[38;2;248;248;242m  \u001b[39m\u001b[38;2;248;248;242m(\u001b[39m\u001b[38;2;102;217;239mNone\u001b[39m\u001b[38;2;248;248;242m,\u001b[39m\u001b[38;2;248;248;242m \u001b[39m\u001b[38;2;102;217;239mNone\u001b[39m\u001b[38;2;248;248;242m,\u001b[39m\u001b[38;2;248;248;242m \u001b[39m\u001b[38;2;174;129;255m256\u001b[39m\u001b[38;2;248;248;242m)\u001b[39m\u001b[38;2;248;248;242m            \u001b[39m\u001b[38;2;174;129;255m3845120\u001b[39m\u001b[38;2;248;248;242m   \u001b[39m\u001b[38;2;248;248;242m[\u001b[39m\u001b[38;2;230;219;116m'\u001b[39m\u001b[38;2;230;219;116menglish[0][0]\u001b[39m\u001b[38;2;230;219;116m'\u001b[39m\u001b[38;2;248;248;242m]\u001b[39m\u001b[38;2;248;248;242m             \u001b[39m\n",
            "\u001b[38;2;248;248;242m \u001b[39m\u001b[38;2;248;248;242mtionalEmbedding\u001b[39m\u001b[38;2;248;248;242m)\u001b[39m\u001b[38;2;248;248;242m                                                                                 \u001b[39m\n",
            "\u001b[38;2;248;248;242m                                                                                                  \u001b[39m\n",
            "\u001b[38;2;248;248;242m \u001b[39m\u001b[38;2;248;248;242mpositional_embedding_1\u001b[39m\u001b[38;2;248;248;242m \u001b[39m\u001b[38;2;248;248;242m(\u001b[39m\u001b[38;2;248;248;242mPo\u001b[39m\u001b[38;2;248;248;242m  \u001b[39m\u001b[38;2;248;248;242m(\u001b[39m\u001b[38;2;102;217;239mNone\u001b[39m\u001b[38;2;248;248;242m,\u001b[39m\u001b[38;2;248;248;242m \u001b[39m\u001b[38;2;102;217;239mNone\u001b[39m\u001b[38;2;248;248;242m,\u001b[39m\u001b[38;2;248;248;242m \u001b[39m\u001b[38;2;174;129;255m256\u001b[39m\u001b[38;2;248;248;242m)\u001b[39m\u001b[38;2;248;248;242m            \u001b[39m\u001b[38;2;174;129;255m3845120\u001b[39m\u001b[38;2;248;248;242m   \u001b[39m\u001b[38;2;248;248;242m[\u001b[39m\u001b[38;2;230;219;116m'\u001b[39m\u001b[38;2;230;219;116msinhala[0][0]\u001b[39m\u001b[38;2;230;219;116m'\u001b[39m\u001b[38;2;248;248;242m]\u001b[39m\u001b[38;2;248;248;242m             \u001b[39m\n",
            "\u001b[38;2;248;248;242m \u001b[39m\u001b[38;2;248;248;242msitionalEmbedding\u001b[39m\u001b[38;2;248;248;242m)\u001b[39m\u001b[38;2;248;248;242m                                                                               \u001b[39m\n",
            "\u001b[38;2;248;248;242m                                                                                                  \u001b[39m\n",
            "\u001b[38;2;248;248;242m \u001b[39m\u001b[38;2;248;248;242mtransformer_encoder\u001b[39m\u001b[38;2;248;248;242m \u001b[39m\u001b[38;2;248;248;242m(\u001b[39m\u001b[38;2;248;248;242mTrans\u001b[39m\u001b[38;2;248;248;242m  \u001b[39m\u001b[38;2;248;248;242m(\u001b[39m\u001b[38;2;102;217;239mNone\u001b[39m\u001b[38;2;248;248;242m,\u001b[39m\u001b[38;2;248;248;242m \u001b[39m\u001b[38;2;102;217;239mNone\u001b[39m\u001b[38;2;248;248;242m,\u001b[39m\u001b[38;2;248;248;242m \u001b[39m\u001b[38;2;174;129;255m256\u001b[39m\u001b[38;2;248;248;242m)\u001b[39m\u001b[38;2;248;248;242m            \u001b[39m\u001b[38;2;174;129;255m3155456\u001b[39m\u001b[38;2;248;248;242m   \u001b[39m\u001b[38;2;248;248;242m[\u001b[39m\u001b[38;2;230;219;116m'\u001b[39m\u001b[38;2;230;219;116mpositional_embedding[0][0]\u001b[39m\u001b[38;2;230;219;116m'\u001b[39m\u001b[38;2;248;248;242m]\u001b[39m\n",
            "\u001b[38;2;248;248;242m \u001b[39m\u001b[38;2;248;248;242mformerEncoder\u001b[39m\u001b[38;2;248;248;242m)\u001b[39m\u001b[38;2;248;248;242m                                                                                   \u001b[39m\n",
            "\u001b[38;2;248;248;242m                                                                                                  \u001b[39m\n",
            "\u001b[38;2;248;248;242m \u001b[39m\u001b[38;2;248;248;242mtransformer_decoder\u001b[39m\u001b[38;2;248;248;242m \u001b[39m\u001b[38;2;248;248;242m(\u001b[39m\u001b[38;2;248;248;242mTrans\u001b[39m\u001b[38;2;248;248;242m  \u001b[39m\u001b[38;2;248;248;242m(\u001b[39m\u001b[38;2;102;217;239mNone\u001b[39m\u001b[38;2;248;248;242m,\u001b[39m\u001b[38;2;248;248;242m \u001b[39m\u001b[38;2;102;217;239mNone\u001b[39m\u001b[38;2;248;248;242m,\u001b[39m\u001b[38;2;248;248;242m \u001b[39m\u001b[38;2;174;129;255m256\u001b[39m\u001b[38;2;248;248;242m)\u001b[39m\u001b[38;2;248;248;242m            \u001b[39m\u001b[38;2;174;129;255m5259520\u001b[39m\u001b[38;2;248;248;242m   \u001b[39m\u001b[38;2;248;248;242m[\u001b[39m\u001b[38;2;230;219;116m'\u001b[39m\u001b[38;2;230;219;116mpositional_embedding_1[0][0]\u001b[39m\n",
            "\u001b[38;2;248;248;242m \u001b[39m\u001b[38;2;248;248;242mformerDecoder\u001b[39m\u001b[38;2;248;248;242m)\u001b[39m\u001b[38;2;248;248;242m                                                     \u001b[39m\u001b[38;2;230;219;116m'\u001b[39m\u001b[38;2;230;219;116m,                            \u001b[39m\n",
            "\u001b[38;2;248;248;242m                                                                     \u001b[39m\u001b[38;2;230;219;116m'\u001b[39m\u001b[38;2;230;219;116mtransformer_encoder[0][0]\u001b[39m\u001b[38;2;230;219;116m'\u001b[39m\u001b[38;2;248;248;242m]\u001b[39m\u001b[38;2;248;248;242m \u001b[39m\n",
            "\u001b[38;2;248;248;242m                                                                                                  \u001b[39m\n",
            "\u001b[38;2;248;248;242m \u001b[39m\u001b[38;2;248;248;242mdropout\u001b[39m\u001b[38;2;248;248;242m \u001b[39m\u001b[38;2;248;248;242m(\u001b[39m\u001b[38;2;248;248;242mDropout\u001b[39m\u001b[38;2;248;248;242m)\u001b[39m\u001b[38;2;248;248;242m           \u001b[39m\u001b[38;2;248;248;242m(\u001b[39m\u001b[38;2;102;217;239mNone\u001b[39m\u001b[38;2;248;248;242m,\u001b[39m\u001b[38;2;248;248;242m \u001b[39m\u001b[38;2;102;217;239mNone\u001b[39m\u001b[38;2;248;248;242m,\u001b[39m\u001b[38;2;248;248;242m \u001b[39m\u001b[38;2;174;129;255m256\u001b[39m\u001b[38;2;248;248;242m)\u001b[39m\u001b[38;2;248;248;242m            \u001b[39m\u001b[38;2;174;129;255m0\u001b[39m\u001b[38;2;248;248;242m         \u001b[39m\u001b[38;2;248;248;242m[\u001b[39m\u001b[38;2;230;219;116m'\u001b[39m\u001b[38;2;230;219;116mtransformer_decoder[0][0]\u001b[39m\u001b[38;2;230;219;116m'\u001b[39m\u001b[38;2;248;248;242m]\u001b[39m\u001b[38;2;248;248;242m \u001b[39m\n",
            "\u001b[38;2;248;248;242m                                                                                                  \u001b[39m\n",
            "\u001b[38;2;248;248;242m \u001b[39m\u001b[38;2;248;248;242mdense_4\u001b[39m\u001b[38;2;248;248;242m \u001b[39m\u001b[38;2;248;248;242m(\u001b[39m\u001b[38;2;248;248;242mDense\u001b[39m\u001b[38;2;248;248;242m)\u001b[39m\u001b[38;2;248;248;242m             \u001b[39m\u001b[38;2;248;248;242m(\u001b[39m\u001b[38;2;102;217;239mNone\u001b[39m\u001b[38;2;248;248;242m,\u001b[39m\u001b[38;2;248;248;242m \u001b[39m\u001b[38;2;102;217;239mNone\u001b[39m\u001b[38;2;248;248;242m,\u001b[39m\u001b[38;2;248;248;242m \u001b[39m\u001b[38;2;174;129;255m15000\u001b[39m\u001b[38;2;248;248;242m)\u001b[39m\u001b[38;2;248;248;242m          \u001b[39m\u001b[38;2;174;129;255m3855000\u001b[39m\u001b[38;2;248;248;242m   \u001b[39m\u001b[38;2;248;248;242m[\u001b[39m\u001b[38;2;230;219;116m'\u001b[39m\u001b[38;2;230;219;116mdropout[0][0]\u001b[39m\u001b[38;2;230;219;116m'\u001b[39m\u001b[38;2;248;248;242m]\u001b[39m\u001b[38;2;248;248;242m             \u001b[39m\n",
            "\u001b[38;2;248;248;242m                                                                                                  \u001b[39m\n",
            "\u001b[38;2;255;70;137m==\u001b[39m\u001b[38;2;255;70;137m==\u001b[39m\u001b[38;2;255;70;137m==\u001b[39m\u001b[38;2;255;70;137m==\u001b[39m\u001b[38;2;255;70;137m==\u001b[39m\u001b[38;2;255;70;137m==\u001b[39m\u001b[38;2;255;70;137m==\u001b[39m\u001b[38;2;255;70;137m==\u001b[39m\u001b[38;2;255;70;137m==\u001b[39m\u001b[38;2;255;70;137m==\u001b[39m\u001b[38;2;255;70;137m==\u001b[39m\u001b[38;2;255;70;137m==\u001b[39m\u001b[38;2;255;70;137m==\u001b[39m\u001b[38;2;255;70;137m==\u001b[39m\u001b[38;2;255;70;137m==\u001b[39m\u001b[38;2;255;70;137m==\u001b[39m\u001b[38;2;255;70;137m==\u001b[39m\u001b[38;2;255;70;137m==\u001b[39m\u001b[38;2;255;70;137m==\u001b[39m\u001b[38;2;255;70;137m==\u001b[39m\u001b[38;2;255;70;137m==\u001b[39m\u001b[38;2;255;70;137m==\u001b[39m\u001b[38;2;255;70;137m==\u001b[39m\u001b[38;2;255;70;137m==\u001b[39m\u001b[38;2;255;70;137m==\u001b[39m\u001b[38;2;255;70;137m==\u001b[39m\u001b[38;2;255;70;137m==\u001b[39m\u001b[38;2;255;70;137m==\u001b[39m\u001b[38;2;255;70;137m==\u001b[39m\u001b[38;2;255;70;137m==\u001b[39m\u001b[38;2;255;70;137m==\u001b[39m\u001b[38;2;255;70;137m==\u001b[39m\u001b[38;2;255;70;137m==\u001b[39m\u001b[38;2;255;70;137m==\u001b[39m\u001b[38;2;255;70;137m==\u001b[39m\u001b[38;2;255;70;137m==\u001b[39m\u001b[38;2;255;70;137m==\u001b[39m\u001b[38;2;255;70;137m==\u001b[39m\u001b[38;2;255;70;137m==\u001b[39m\u001b[38;2;255;70;137m==\u001b[39m\u001b[38;2;255;70;137m==\u001b[39m\u001b[38;2;255;70;137m==\u001b[39m\u001b[38;2;255;70;137m==\u001b[39m\u001b[38;2;255;70;137m==\u001b[39m\u001b[38;2;255;70;137m==\u001b[39m\u001b[38;2;255;70;137m==\u001b[39m\u001b[38;2;255;70;137m==\u001b[39m\u001b[38;2;255;70;137m==\u001b[39m\u001b[38;2;255;70;137m==\u001b[39m\n",
            "\u001b[38;2;248;248;242mTotal\u001b[39m\u001b[38;2;248;248;242m \u001b[39m\u001b[38;2;248;248;242mparams\u001b[39m\u001b[38;2;248;248;242m:\u001b[39m\u001b[38;2;248;248;242m \u001b[39m\u001b[38;2;174;129;255m19960216\u001b[39m\u001b[38;2;248;248;242m \u001b[39m\u001b[38;2;248;248;242m(\u001b[39m\u001b[38;2;174;129;255m76.14\u001b[39m\u001b[38;2;248;248;242m \u001b[39m\u001b[38;2;248;248;242mMB\u001b[39m\u001b[38;2;248;248;242m)\u001b[39m\n",
            "\u001b[38;2;248;248;242mTrainable\u001b[39m\u001b[38;2;248;248;242m \u001b[39m\u001b[38;2;248;248;242mparams\u001b[39m\u001b[38;2;248;248;242m:\u001b[39m\u001b[38;2;248;248;242m \u001b[39m\u001b[38;2;174;129;255m19960216\u001b[39m\u001b[38;2;248;248;242m \u001b[39m\u001b[38;2;248;248;242m(\u001b[39m\u001b[38;2;174;129;255m76.14\u001b[39m\u001b[38;2;248;248;242m \u001b[39m\u001b[38;2;248;248;242mMB\u001b[39m\u001b[38;2;248;248;242m)\u001b[39m\n",
            "\u001b[38;2;248;248;242mNon\u001b[39m\u001b[38;2;255;70;137m-\u001b[39m\u001b[38;2;248;248;242mtrainable\u001b[39m\u001b[38;2;248;248;242m \u001b[39m\u001b[38;2;248;248;242mparams\u001b[39m\u001b[38;2;248;248;242m:\u001b[39m\u001b[38;2;248;248;242m \u001b[39m\u001b[38;2;174;129;255m0\u001b[39m\u001b[38;2;248;248;242m \u001b[39m\u001b[38;2;248;248;242m(\u001b[39m\u001b[38;2;174;129;255m0.00\u001b[39m\u001b[38;2;248;248;242m \u001b[39m\u001b[38;2;248;248;242mByte\u001b[39m\u001b[38;2;248;248;242m)\u001b[39m\n",
            "\u001b[38;2;248;248;242m__________________________________________________________________________________________________\u001b[39m\n",
            "\n"
          ]
        }
      ],
      "source": [
        "from tensorflow import keras\n",
        "from pygments import highlight\n",
        "from pygments.lexers import PythonLexer\n",
        "from pygments.formatters import TerminalTrueColorFormatter\n",
        "\n",
        "# Get the summary text\n",
        "summary_text = []\n",
        "transformer.summary(print_fn=lambda x: summary_text.append(x))\n",
        "\n",
        "# Highlight the summary text using Pygments\n",
        "highlighted_summary = highlight('\\n'.join(summary_text), PythonLexer(), TerminalTrueColorFormatter(style='monokai'))\n",
        "\n",
        "# Print the highlighted summary\n",
        "print(highlighted_summary)\n"
      ]
    },
    {
      "cell_type": "markdown",
      "metadata": {
        "id": "izcfAoCCcf7a"
      },
      "source": [
        "Training the sequence-to-sequence Transformer"
      ]
    },
    {
      "cell_type": "code",
      "execution_count": 19,
      "metadata": {
        "colab": {
          "base_uri": "https://localhost:8080/"
        },
        "id": "TtD5TtarcgFw",
        "outputId": "fa2cdb14-bf5f-43ae-bce1-a4a935708a23"
      },
      "outputs": [
        {
          "output_type": "stream",
          "name": "stdout",
          "text": [
            "Epoch 1/20\n",
            "1126/1126 [==============================] - 113s 89ms/step - loss: 1.7395 - accuracy: 0.6778 - val_loss: 2.0190 - val_accuracy: 0.6436\n",
            "Epoch 2/20\n",
            "1126/1126 [==============================] - 84s 74ms/step - loss: 1.4856 - accuracy: 0.7058 - val_loss: 1.9711 - val_accuracy: 0.6507\n",
            "Epoch 3/20\n",
            "1126/1126 [==============================] - 84s 74ms/step - loss: 1.2801 - accuracy: 0.7279 - val_loss: 1.9504 - val_accuracy: 0.6558\n",
            "Epoch 4/20\n",
            "1126/1126 [==============================] - 84s 75ms/step - loss: 1.1226 - accuracy: 0.7486 - val_loss: 1.9721 - val_accuracy: 0.6588\n",
            "Epoch 5/20\n",
            "1126/1126 [==============================] - 84s 74ms/step - loss: 1.0027 - accuracy: 0.7668 - val_loss: 1.9728 - val_accuracy: 0.6640\n",
            "Epoch 6/20\n",
            "1126/1126 [==============================] - 83s 74ms/step - loss: 0.9114 - accuracy: 0.7817 - val_loss: 2.0261 - val_accuracy: 0.6618\n",
            "Epoch 7/20\n",
            "1126/1126 [==============================] - 84s 75ms/step - loss: 0.8357 - accuracy: 0.7962 - val_loss: 2.0403 - val_accuracy: 0.6629\n",
            "Epoch 8/20\n",
            "1126/1126 [==============================] - 85s 75ms/step - loss: 0.7732 - accuracy: 0.8081 - val_loss: 2.0605 - val_accuracy: 0.6674\n",
            "Epoch 9/20\n",
            "1126/1126 [==============================] - 84s 75ms/step - loss: 0.7195 - accuracy: 0.8185 - val_loss: 2.0739 - val_accuracy: 0.6698\n",
            "Epoch 10/20\n",
            "1126/1126 [==============================] - 84s 75ms/step - loss: 0.6786 - accuracy: 0.8271 - val_loss: 2.1128 - val_accuracy: 0.6688\n",
            "Epoch 11/20\n",
            "1126/1126 [==============================] - 85s 75ms/step - loss: 0.6390 - accuracy: 0.8353 - val_loss: 2.1417 - val_accuracy: 0.6699\n",
            "Epoch 12/20\n",
            "1126/1126 [==============================] - 84s 75ms/step - loss: 0.6051 - accuracy: 0.8426 - val_loss: 2.1755 - val_accuracy: 0.6722\n",
            "Epoch 13/20\n",
            "1126/1126 [==============================] - 84s 74ms/step - loss: 0.5718 - accuracy: 0.8501 - val_loss: 2.2192 - val_accuracy: 0.6723\n",
            "Epoch 14/20\n",
            "1126/1126 [==============================] - 85s 76ms/step - loss: 0.5478 - accuracy: 0.8556 - val_loss: 2.2264 - val_accuracy: 0.6733\n",
            "Epoch 15/20\n",
            "1126/1126 [==============================] - 84s 75ms/step - loss: 0.5206 - accuracy: 0.8614 - val_loss: 2.2807 - val_accuracy: 0.6734\n",
            "Epoch 16/20\n",
            "1126/1126 [==============================] - 84s 75ms/step - loss: 0.4988 - accuracy: 0.8667 - val_loss: 2.2806 - val_accuracy: 0.6739\n",
            "Epoch 17/20\n",
            "1126/1126 [==============================] - 84s 75ms/step - loss: 0.4785 - accuracy: 0.8717 - val_loss: 2.3161 - val_accuracy: 0.6706\n",
            "Epoch 18/20\n",
            "1126/1126 [==============================] - 86s 76ms/step - loss: 0.4583 - accuracy: 0.8761 - val_loss: 2.3809 - val_accuracy: 0.6707\n",
            "Epoch 19/20\n",
            "1126/1126 [==============================] - 84s 75ms/step - loss: 0.4400 - accuracy: 0.8805 - val_loss: 2.3917 - val_accuracy: 0.6705\n",
            "Epoch 20/20\n",
            "1126/1126 [==============================] - 86s 76ms/step - loss: 0.4259 - accuracy: 0.8837 - val_loss: 2.3686 - val_accuracy: 0.6727\n"
          ]
        }
      ],
      "source": [
        "from tensorflow.keras.optimizers import Adam\n",
        "\n",
        "# Compile the model with Adam optimizer\n",
        "transformer.compile(\n",
        "    optimizer=Adam(),  # Using Adam optimizer\n",
        "    loss=\"sparse_categorical_crossentropy\",\n",
        "    metrics=[\"accuracy\"])\n",
        "\n",
        "# Train the model\n",
        "history = transformer.fit(train_ds, epochs=20, validation_data=val_ds)\n",
        "\n",
        "# Save the model\n",
        "transformer.save(\"transformer_model\")\n"
      ]
    },
    {
      "cell_type": "markdown",
      "metadata": {
        "id": "HtV-4Jp7cgNt"
      },
      "source": [
        "Translating new sentences with our Transformer model"
      ]
    },
    {
      "cell_type": "code",
      "execution_count": 21,
      "metadata": {
        "id": "lKCdvEQFcgWn"
      },
      "outputs": [],
      "source": [
        "sin_vocab = target_vectorization.get_vocabulary()\n",
        "sin_index_lookup = dict(zip(range(len(sin_vocab)), sin_vocab))\n",
        "max_decoded_sentence_length = 50\n"
      ]
    },
    {
      "cell_type": "markdown",
      "metadata": {
        "id": "P124OmIxcgeo"
      },
      "source": [
        "Output Testing and Decoding the output sequence"
      ]
    },
    {
      "cell_type": "code",
      "execution_count": 22,
      "metadata": {
        "id": "xjO9rIZkcgnq"
      },
      "outputs": [],
      "source": [
        "import numpy as np\n",
        "\n",
        "def decode_sequence(input_sentence):\n",
        "     tokenized_input_sentence = source_vectorization([input_sentence])\n",
        "     decoded_sentence = \"[start]\"\n",
        "     for i in range(max_decoded_sentence_length):\n",
        "       tokenized_target_sentence = target_vectorization(\n",
        "         [decoded_sentence])[:, :-1]\n",
        "       predictions = transformer(\n",
        "         [tokenized_input_sentence, tokenized_target_sentence])\n",
        "       sampled_token_index = np.argmax(predictions[0, i, :])\n",
        "       sampled_token = sin_index_lookup[sampled_token_index]\n",
        "       decoded_sentence += \" \" + sampled_token\n",
        "       if sampled_token == \"[end]\": break\n",
        "     return decoded_sentence"
      ]
    },
    {
      "cell_type": "markdown",
      "metadata": {
        "id": "LzPCHf-Acgvm"
      },
      "source": [
        "Transformer translating output"
      ]
    },
    {
      "cell_type": "code",
      "execution_count": 23,
      "metadata": {
        "id": "fmWCUkuscg4y",
        "colab": {
          "base_uri": "https://localhost:8080/"
        },
        "outputId": "90016a44-9b91-4df8-daa2-f1cb9fc25a1b"
      },
      "outputs": [
        {
          "output_type": "stream",
          "name": "stdout",
          "text": [
            "-\n",
            "Mary's lipstick is smeared.\n",
            "[start] ගිම්හානය මරියාගේ ආහාරය ගැනීම [end]\n",
            "-\n",
            "The dog hid under the bed whenever lightning flashed.\n",
            "[start] බල්ලා අකුණු සැර වැදීමෙන් පෙර වෛද්යවරයා දෙදෙනෙක් සිටී [end]\n",
            "-\n",
            "I am a big fan of the arts.\n",
            "[start] මම [UNK] විදුලි [UNK] විශාල බල්ලෙක්ද [end]\n",
            "-\n",
            "A nail penetrated the car tire.\n",
            "[start] ස්කොට් බයිරන්ගේ සමකාලීනයෙකි [end]\n",
            "-\n",
            "Why are you irritated?\n",
            "[start] ඇයි ඔබ ගණන් ගන්නේ [end]\n",
            "-\n",
            "I can not put up with his insults any longer.\n",
            "[start] ඔහුගේ ප්රංශ භාෂාව ඉගැන්වීමේ [UNK] ඔහුට [UNK] නැහැ [end]\n",
            "-\n",
            "They're eggs.\n",
            "[start] ඔවුන් බිත්තර [end]\n",
            "-\n",
            "I'm on the beach playing volleyball.\n",
            "[start] මම වොලිබෝල් ක්රීඩා කරන දරුවන් [end]\n",
            "-\n",
            "Balls are round.\n",
            "[start] යිස්ෂ් දුර්වලයි [end]\n",
            "-\n",
            "Will you be ready to leave tomorrow?\n",
            "[start] ඔබ හෙට පිටව යාමට සූදානම්ද [end]\n"
          ]
        }
      ],
      "source": [
        "test_eng_texts = [pair[0] for pair in test_pairs]\n",
        "for _ in range(10):\n",
        "    input_sentence = random.choice(test_eng_texts)\n",
        "    print(\"-\")\n",
        "    print(input_sentence)\n",
        "    print(decode_sequence(input_sentence))"
      ]
    },
    {
      "cell_type": "markdown",
      "metadata": {
        "id": "r660q0N3chCL"
      },
      "source": [
        "Evaluation using the BLEU score"
      ]
    },
    {
      "cell_type": "code",
      "execution_count": 24,
      "metadata": {
        "id": "Cs6FBdvQchK-",
        "colab": {
          "base_uri": "https://localhost:8080/"
        },
        "outputId": "cf4d9652-d4c0-4d15-b55c-183bf823153e"
      },
      "outputs": [
        {
          "output_type": "stream",
          "name": "stdout",
          "text": [
            "[start] අපේ ලෝක යුද්ධය කුඩා හා කුඩා වේ [end] [start] අපේ ලෝකය කුඩා වන අතර කුඩා වේ. [end]\n",
            "Score:0.4772727272727273\n"
          ]
        },
        {
          "output_type": "stream",
          "name": "stderr",
          "text": [
            "/usr/local/lib/python3.10/dist-packages/nltk/translate/bleu_score.py:552: UserWarning: \n",
            "The hypothesis contains 0 counts of 2-gram overlaps.\n",
            "Therefore the BLEU score evaluates to 0, independently of\n",
            "how many N-gram overlaps of lower order it contains.\n",
            "Consider using lower n-gram order or use SmoothingFunction()\n",
            "  warnings.warn(_msg)\n",
            "/usr/local/lib/python3.10/dist-packages/nltk/translate/bleu_score.py:552: UserWarning: \n",
            "The hypothesis contains 0 counts of 3-gram overlaps.\n",
            "Therefore the BLEU score evaluates to 0, independently of\n",
            "how many N-gram overlaps of lower order it contains.\n",
            "Consider using lower n-gram order or use SmoothingFunction()\n",
            "  warnings.warn(_msg)\n",
            "/usr/local/lib/python3.10/dist-packages/nltk/translate/bleu_score.py:552: UserWarning: \n",
            "The hypothesis contains 0 counts of 4-gram overlaps.\n",
            "Therefore the BLEU score evaluates to 0, independently of\n",
            "how many N-gram overlaps of lower order it contains.\n",
            "Consider using lower n-gram order or use SmoothingFunction()\n",
            "  warnings.warn(_msg)\n"
          ]
        },
        {
          "output_type": "stream",
          "name": "stdout",
          "text": [
            "[start] මම හිතුවේ ඔබ සෑම සති දෙකක ටෙනිස් වාදනය කළා [end] [start] මම හිතුවේ ඔබ සෑම සති අන්තයකම ටෙනිස් දෙදෙනෙකු එකට ක්රීඩා කළා. [end]\n",
            "Score:0.5357142857142857\n",
            "[start] ඔබ දරුවා දුටු විට මරියා පිටතට යන බව අවසන් කළේය [end] [start] ඔබ අවසන් වරට මරියා අ cry න්නේ කවදාද? [end]\n",
            "Score:0.43333333333333335\n",
            "[start] ටැන්ගෝ සඳහා බොහෝ දුරින් කුඩා පිරිමි කුඩා නගරයක ජීවත් වේ [end] [start] ටැන්ගෝ කුඩා ගමක කුඩා පිරිමි ළමයෙකු සමඟ ජීවත් වේ. [end]\n",
            "Score:0.4492753623188406\n",
            "[start] අපි පීනන්න යන්නෙමු [end] [start] අපි පිහිනීමට යමු. [end]\n",
            "Score:0.5625\n",
            "[start] මගේ සහෝදරිය වයසින් සමඟ පාපන්දු ක්රීඩා කරයි [end] [start] මගේ සහෝදරිය බෝනික්කෙකු සමඟ සෙල්ලම් කරනවා. [end]\n",
            "Score:0.48214285714285715\n",
            "[start] ඔබට හෙට ඔබට යමක් කළ යුතුද යන්න [end] [start] ඔබට හෙට එකට යමක් කිරීමට අවශ්ය නම් මට කතා කරන්න. [end]\n",
            "Score:0.4772727272727273\n",
            "[start] හැම දෙයක්ම පරිපූර්ණ වේවි [end] [start] සෑම දෙයක්ම හොඳින් සිදුවෙමින් පැවතුනි. [end]\n",
            "Score:0.5526315789473685\n",
            "[start] ඔබේ කාමරයේ දැකීමට ඔබට අවශ්යද [end] [start] ඔබේ කාමරය දැකීමට ඔබට අවශ්යද? [end]\n",
            "Score:0.6190476190476191\n",
            "[start] මගේ තාත්තා මගෙන් ඇහුවා දොර අරින්න [end] [start] මගේ තාත්තා මගෙන් දොර ඇරෙන ලෙස ඉල්ලා සිටියේය. [end]\n",
            "Score:0.48936170212765956\n",
            "[start] මෙහි පැමිණියේ යමෙකුට වායුසමීකරණ යන්ත්රය කතා කළ හැකිද [end] [start] මෙහි ඕනෑම කෙනෙකුට මැන්ඩරින් කතා කළ හැකිද? [end]\n",
            "Score:0.3787878787878788\n",
            "[start] ඒක හරි [end] [start] මම හරි කියලා. [end]\n",
            "Score:0.7\n",
            "[start] එය හොල්මන් කිව්වේ කාර් [UNK] [end] [start] නිවස හොල්මන් කර ඇති බව කියනු ලැබේ. [end]\n",
            "Score:0.5238095238095238\n",
            "[start] ටොම් කළේ කුමක්ද [end] [start] ටොම් දැන සිටියේ කුමක් ද? [end]\n",
            "Score:0.6206896551724138\n",
            "[start] ඇය විශ්වාස කරන්නේ ඇගේ නිර්දෝෂී බව ටොම් විශ්වාස කිරීමේදී [UNK] [end] [start] මම විශ්වාස කරන්නේ, සැකයක් ඇති සෙවණැල්ලෙන් ඔබ්බට ඇය නිර්දෝෂී බවයි. [end]\n",
            "Score:0.38666666666666666\n",
            "[start] ටොම් මරියා තරම් හොඳ පෙනුමක් ඇති නොවේ [end] [start] ටොම් මරියා තරම් හොඳ පෙනුමක් නැත. [end]\n",
            "Score:0.52\n",
            "[start] මේක ලොකු [end] [start] මේක ලොකුයි. [end]\n",
            "Score:0.7272727272727273\n",
            "[start] ඇගේ අත දිගු කළහ [end] [start] ඇගේ පසුම්බිය ඇගේ අතෙහි සිට උදුරා ගත්තේය. [end]\n",
            "Score:0.6551724137931034\n",
            "[start] ටොම් ඇඳෙන් පැන විනාඩි පහකට පෙර දොරෙන් පිටව ගියේය [end] [start] එලාම් ඔරලෝසුව පිටත්ව ගිය වහාම ටොම් ඇඳෙන් නැගී සිටියේය. [end]\n",
            "Score:0.45161290322580644\n",
            "[start] ඔබට උණුසුම් පානය කිරීමට යමක් තිබේද [end] [start] ඔබට බොන්න උණුසුම් යමක් තිබේද? [end]\n",
            "Score:0.5416666666666666\n",
            "\n",
            "Scaled BLEU score : 52.92/100\n"
          ]
        }
      ],
      "source": [
        "from nltk.translate.bleu_score import sentence_bleu\n",
        "\n",
        "test_eng_texts = [pair[0] for pair in test_pairs]\n",
        "test_sin_texts = [pair[1] for pair in test_pairs]\n",
        "score = 0\n",
        "bleu  = 0\n",
        "for i in range(20):\n",
        "    candidate = decode_sequence(test_eng_texts[i])\n",
        "    reference = test_sin_texts[i].lower()\n",
        "    print(candidate,reference)\n",
        "    score = sentence_bleu(reference, candidate, weights=(1, 0, 0, 0))\n",
        "    bleu += score\n",
        "    print(f\"Score:{score}\")\n",
        "scaled_bleu = (bleu / 20) * 100\n",
        "print(f\"\\nScaled BLEU score : {round(scaled_bleu,2)}/100\")\n"
      ]
    },
    {
      "cell_type": "markdown",
      "metadata": {
        "id": "8GkdxaKBBT6z"
      },
      "source": [
        "Calculate accuracy for 20 new sentences"
      ]
    },
    {
      "cell_type": "code",
      "execution_count": 25,
      "metadata": {
        "id": "3KQm5sjOBUIR",
        "colab": {
          "base_uri": "https://localhost:8080/"
        },
        "outputId": "dd6cc9a2-97e7-4018-a64f-1944ccb6ac8d"
      },
      "outputs": [
        {
          "output_type": "stream",
          "name": "stdout",
          "text": [
            "[start] ඔබ බලා සිටීමට සහ දැකීමට නියමිතය [end] ඔබට බලා සිටීමට සිදුවනු ඇත\n",
            "Score: 0.28888888888888886\n",
            "[start] ඇය දුම්පානය නතර කළාය [end] ඇය දුම්පානය නැවැත්තුවා\n",
            "Score: 0.32352941176470584\n",
            "[start] ඔහු ආවේ අපිව ඔත්තු බලන්න [end] ඔහු ආවේ අපිව ඔත්තු බලන්න\n",
            "Score: 0.39473684210526316\n",
            "[start] මම ටිකට්පත් සඳහා ගෙවා ඇත [end] මම ටිකට් පත් සඳහා මුදල් ගෙව්වා\n",
            "Score: 0.39473684210526316\n",
            "[start] ඒ වගේ කෙනෙකුට ඉන්න ඕන කවුද [end] රැඳී සිටීමට කැමති අයට රැඳී සිටිය හැකිය\n",
            "Score: 0.075\n",
            "[start] ඔහු යම් යම් දවසක නව සොයාගැනීමක් ඇති කරන බව ඔහුට විශ්වාසයි [end] ඔහු යම් යම් දවසක නව සොයාගැනීමක් ඇති කරන බව ඔහුට විශ්වාසයි\n",
            "Score: 0.33802816901408445\n",
            "[start] මම උයන්න කැමතියි [end] මම උයන්න කැමතියි\n",
            "Score: 0.3333333333333333\n",
            "[start] මෙතඩෝන් සාමාන්යයෙන් බොහෝ සෙයින් වර්ධනය වී ඇත [end] හාවෙකුට දිගු කන් ඇත\n",
            "Score: 0.1724137931034483\n",
            "[start] මම කනස්සල්ලට පත්ව සිටිමි [end] මම කනස්සල්ලට පත්ව සිටිමි\n",
            "Score: 0.3157894736842105\n",
            "[start] ඔබ ඉංග්රීසි වලට කැමති නැත [end] ඔබ ඉංග්රීසි වලට කැමතියි නේද\n",
            "Score: 0.48717948717948717\n",
            "[start] ඔබට මෙය නැවැත්විය හැකිය [end] ඔබට මෙය නැවැත්විය හැකිය\n",
            "Score: 0.40540540540540543\n",
            "[start] ව්යාපාරය දියුණු වේ [end] ව්යාපාරය දියුණු වේ\n",
            "Score: 0.375\n",
            "[start] මට ගොඩක් අවාසනාවන්තයි [end] මම හරිම අවාසනාවන්තය\n",
            "Score: 0.31428571428571433\n",
            "[start] විවාහ මංගල්යය මාස තුනකට වඩා අඩු කාලයකින් විවාහ වී ඇත [end] විවාහ මංගල්යය මාස තුනකට වඩා අඩුය\n",
            "Score: 0.2878787878787879\n",
            "[start] කොන්ත්රාත්තුව අත්සන් කරන ලදී [end] කොන්ත්රාත්තුව අත්සන් කරන ලදී\n",
            "Score: 0.3571428571428572\n",
            "[start] ඔහුට මිතුරන් ගොඩක් අය ඇත නමුත් ඔහුට මුදල් නැත [end] ඔහුට විශාල මුදලක් ඇත නමුත් මිතුරන් නැත\n",
            "Score: 0.2711864406779661\n",
            "[start] ටොම් කිසි විටෙකත් ගුවන් විදුලියට සවන් නොදෙයි [end] ටොම් කිසි විටෙකත් ගුවන් විදුලියට සවන් නොදෙය\n",
            "Score: 0.29310344827586204\n",
            "[start] මම මගේ බාල සොහොයුරා සමඟ සම්බන්ධ වෙමි [end] මම මගේ බාල සොහොයුරා සමඟ සම්බන්ධ වෙමි\n",
            "Score: 0.4\n",
            "[start] ඔවුන් යතුර සඟවා තැබුවේ කොහේදැයි මම නොදනිමි [end] මම දන්නේ නැහැ ඔවුන් යතුර සඟවා ගත්තේ කොහේද කියලා\n",
            "Score: 0.3571428571428572\n",
            "[start] මෙය ඔහුගේ ය [end] මෙය ඔහුගේ සූත්රයයි\n",
            "Score: 0.36\n",
            "\n",
            "Scaled BLEU score : 32.72/100\n"
          ]
        }
      ],
      "source": [
        "manualTest = [\n",
        "    (\"You will have to wait and see\", \"ඔබට බලා සිටීමට සිදුවනු ඇත\"),\n",
        "    (\"She stopped smoking\", \"ඇය දුම්පානය නැවැත්තුවා\"),\n",
        "    (\"He's here to spy on us\", \"ඔහු ආවේ අපිව ඔත්තු බලන්න\"),\n",
        "    (\"I paid for the tickets\", \"මම ටිකට් පත් සඳහා මුදල් ගෙව්වා\"),\n",
        "    (\"Those who want to stay can stay\", \"රැඳී සිටීමට කැමති අයට රැඳී සිටිය හැකිය\"),\n",
        "    (\"He was sure that he would make a new discovery some day\", \"ඔහු යම් යම් දවසක නව සොයාගැනීමක් ඇති කරන බව ඔහුට විශ්වාසයි\"),\n",
        "    (\"I like to cook\", \"මම උයන්න කැමතියි\"),\n",
        "    (\"A rabbit has long ears\", \"හාවෙකුට දිගු කන් ඇත\"),\n",
        "    (\"I've been worried\", \"මම කනස්සල්ලට පත්ව සිටිමි\"),\n",
        "    (\"You like English, don't you?\", \"ඔබ ඉංග්රීසි වලට කැමතියි නේද\"),\n",
        "    (\"You could stop this\", \"ඔබට මෙය නැවැත්විය හැකිය\"),\n",
        "    (\"Business is improving\", \"ව්යාපාරය දියුණු වේ\"),\n",
        "    (\"I'm so unlucky\", \"මම හරිම අවාසනාවන්තය\"),\n",
        "    (\"The wedding is less than three months away\", \"විවාහ මංගල්යය මාස තුනකට වඩා අඩුය\"),\n",
        "    (\"The contract was signed\", \"කොන්ත්රාත්තුව අත්සන් කරන ලදී\"),\n",
        "    (\"He has a lot of money, but has almost no friends\", \"ඔහුට විශාල මුදලක් ඇත නමුත් මිතුරන් නැත\"),\n",
        "    (\"Tom hardly ever listens to the radio\", \"ටොම් කිසි විටෙකත් ගුවන් විදුලියට සවන් නොදෙය\"),\n",
        "    (\"I get along with my younger brother\", \"මම මගේ බාල සොහොයුරා සමඟ සම්බන්ධ වෙමි\"),\n",
        "    (\"I don't know where they hid the key\", \"මම දන්නේ නැහැ ඔවුන් යතුර සඟවා ගත්තේ කොහේද කියලා\"),\n",
        "    (\"This is his formula.\", \"මෙය ඔහුගේ සූත්රයයි\")\n",
        "]\n",
        "\n",
        "\n",
        "from nltk.translate.bleu_score import sentence_bleu\n",
        "\n",
        "testENTexts = [pair[0] for pair in manualTest]\n",
        "testSITexts = [pair[1] for pair in manualTest]\n",
        "scores = []\n",
        "bleu  = 0\n",
        "for i in range(20):\n",
        "    candidate = decode_sequence(testENTexts[i])\n",
        "    reference = testSITexts[i].lower()\n",
        "    print(candidate, reference)\n",
        "    score = sentence_bleu(reference, candidate, weights=(1, 0, 0, 0))\n",
        "    scores.append(score)\n",
        "    bleu += score\n",
        "    print(f\"Score: {score}\")\n",
        "scaled_bleu = (bleu / 20) * 100\n",
        "print(f\"\\nScaled BLEU score : {round(scaled_bleu, 2)}/100\")\n"
      ]
    },
    {
      "cell_type": "code",
      "execution_count": 26,
      "metadata": {
        "id": "aNey0pQ1PNgT",
        "colab": {
          "base_uri": "https://localhost:8080/",
          "height": 564
        },
        "outputId": "95854d39-36fc-4481-da7f-1af930baa71d"
      },
      "outputs": [
        {
          "output_type": "display_data",
          "data": {
            "text/plain": [
              "<Figure size 800x600 with 1 Axes>"
            ],
            "image/png": "[encoded data removed]"
          },
          "metadata": {}
        }
      ],
      "source": [
        "import matplotlib.pyplot as plt\n",
        "\n",
        "avg_bleu = sum(scores) / len(scores)\n",
        "\n",
        "# Plotting\n",
        "plt.figure(figsize=(8, 6))\n",
        "plt.plot(range(1, 21), scores, marker='o', linestyle='-', label='Individual Scores')\n",
        "plt.axhline(y=avg_bleu, color='r', linestyle='--', label='Average Score')\n",
        "plt.title('BLEU Scores for Manual Test Set')\n",
        "plt.xlabel('Test Sample')\n",
        "plt.ylabel('BLEU Score')\n",
        "plt.xticks(range(1, 21))\n",
        "plt.grid(True)\n",
        "plt.legend()\n",
        "plt.show()"
      ]
    }
  ],
  "metadata": {
    "accelerator": "GPU",
    "colab": {
      "gpuType": "T4",
      "provenance": []
    },
    "kernelspec": {
      "display_name": "Python 3",
      "name": "python3"
    },
    "language_info": {
      "name": "python"
    }
  },
  "nbformat": 4,
  "nbformat_minor": 0
}